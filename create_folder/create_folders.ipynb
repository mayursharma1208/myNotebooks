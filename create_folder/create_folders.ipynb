{
 "cells": [
  {
   "cell_type": "markdown",
   "metadata": {},
   "source": [
    "# A python script to create district block folder structure from a CSV file"
   ]
  },
  {
   "cell_type": "code",
   "execution_count": 1,
   "metadata": {},
   "outputs": [],
   "source": [
    "import os\n",
    "import csv"
   ]
  },
  {
   "cell_type": "code",
   "execution_count": 4,
   "metadata": {
    "scrolled": true
   },
   "outputs": [],
   "source": [
    "m_rootpath = r\"D:\\myStudy\\Python\\create_folder\\CG\"\n",
    "m_filepath = r\"D:\\myStudy\\Python\\create_folder\\dist_block.csv\"\n",
    "m_list = []\n",
    "m_dict = {}"
   ]
  },
  {
   "cell_type": "code",
   "execution_count": 5,
   "metadata": {},
   "outputs": [
    {
     "name": "stdout",
     "output_type": "stream",
     "text": [
      "File Read Successfully - Total Records found =  150\n"
     ]
    }
   ],
   "source": [
    "with open(m_filepath) as m_report:\n",
    "    csv_reader = csv.reader(m_report, delimiter=',')\n",
    "    try:\n",
    "        for row in csv_reader:\n",
    "            m_list.append(row)\n",
    "    except csv.Error as e:\n",
    "        sys.exit('file {}, line {}: {}'.format(m_filepath, csv_reader.line_num, e))\n",
    "    \n",
    "print (\"File Read Successfully - Total Records found = \",len(m_list))"
   ]
  },
  {
   "cell_type": "code",
   "execution_count": 6,
   "metadata": {},
   "outputs": [],
   "source": [
    "def add_value(m_dict,m_key,m_value):\n",
    "    if m_key in m_dict:\n",
    "        if not isinstance(m_dict[m_key],list):\n",
    "            m_dict[m_key] = [m_dict[m_key]]\n",
    "        m_dict[m_key].append(m_value)"
   ]
  },
  {
   "cell_type": "code",
   "execution_count": 7,
   "metadata": {},
   "outputs": [
    {
     "data": {
      "text/plain": [
       "[['ï»¿dist_name', 'dist_code', 'teh_name', 'teh_code'],\n",
       " ['Balod', '422', 'Gunderdehi', '3319'],\n",
       " ['Balod', '422', 'DondiLuhara', '3320'],\n",
       " ['Balod', '422', 'Balod', '3321'],\n",
       " ['Balod', '422', 'Dondi', '3322'],\n",
       " ['Balod', '422', 'Gurur', '3323'],\n",
       " ['BalodaBazar', '421', 'Simga', '3324'],\n",
       " ['BalodaBazar', '421', 'Bhatapara', '3325'],\n",
       " ['BalodaBazar', '421', 'BalodaBazar', '3326'],\n",
       " ['BalodaBazar', '421', 'Palari', '3327'],\n",
       " ['BalodaBazar', '421', 'Kasdol', '3328'],\n",
       " ['BalodaBazar', '421', 'Bilaigarh', '3329'],\n",
       " ['Balrampur', '420', 'Ramanujganj', '3236'],\n",
       " ['Balrampur', '420', 'Balrampur', '3237'],\n",
       " ['Balrampur', '420', 'Wadrafnagar', '3238'],\n",
       " ['Balrampur', '420', 'Kusmi', '3240'],\n",
       " ['Balrampur', '420', 'Shankargarh', '3241'],\n",
       " ['Balrampur', '420', 'Rajpur', '3250'],\n",
       " ['Bastar', '414', 'Jagdalpur', '3360'],\n",
       " ['Bastar', '414', 'Lohandiguda', '3361'],\n",
       " ['Bastar', '414', 'Bastanar', '3362'],\n",
       " ['Bastar', '414', 'Bastar', '3363'],\n",
       " ['Bastar', '414', 'Bakavand', '3364'],\n",
       " ['Bastar', '414', 'Tokapal', '3365'],\n",
       " ['Bastar', '414', 'Darbha', '3366'],\n",
       " ['Bemetara', '418', 'Nawagarh', '3311'],\n",
       " ['Bemetara', '418', 'Bemetara', '3312'],\n",
       " ['Bemetara', '418', 'Saja', '3313'],\n",
       " ['Bemetara', '418', 'Thanakhamria', '3314'],\n",
       " ['Bemetara', '418', 'Berla', '3315'],\n",
       " ['Bijapur', '417', 'Bhopalpattnam', '3376'],\n",
       " ['Bijapur', '417', 'Usur', '3377'],\n",
       " ['Bijapur', '417', 'Bijapur', '3378'],\n",
       " ['Bijapur', '417', 'Bhairamgarh', '3379'],\n",
       " ['Bilaspur', '406', 'Kota', '3291'],\n",
       " ['Bilaspur', '406', 'Takhatpur', '3294'],\n",
       " ['Bilaspur', '406', 'Bilaspur', '3295'],\n",
       " ['Bilaspur', '406', 'Masturi', '3296'],\n",
       " ['Bilaspur', '406', 'Bilha', '3297'],\n",
       " ['Dantewada', '416', 'Dantewada', '3369'],\n",
       " ['Dantewada', '416', 'Gidam', '3370'],\n",
       " ['Dantewada', '416', 'Katekalyan', '3371'],\n",
       " ['Dantewada', '416', 'Kuakonda', '3372'],\n",
       " ['Dhamtari', '412', 'Kurud', '3344'],\n",
       " ['Dhamtari', '412', 'Magarlod', '3345'],\n",
       " ['Dhamtari', '412', 'Dhamtari', '3346'],\n",
       " ['Dhamtari', '412', 'Nagri', '3347'],\n",
       " ['Durg', '409', 'Dhamdha', '3316'],\n",
       " ['Durg', '409', 'Durg', '3317'],\n",
       " ['Durg', '409', 'Patan', '3318'],\n",
       " ['Gariyaband', '425', 'Rajim', '3333'],\n",
       " ['Gariyaband', '425', 'Gariyaband', '3335'],\n",
       " ['Gariyaband', '425', 'Chhura', '3336'],\n",
       " ['Gariyaband', '425', 'Mainpur', '3337'],\n",
       " ['Gariyaband', '425', 'Deobhog', '3338'],\n",
       " ['GaurellaPendraMarwahi', '427', 'PendraRoad', '3287'],\n",
       " ['GaurellaPendraMarwahi', '427', 'Marwahi', '3288'],\n",
       " ['GaurellaPendraMarwahi', '427', 'Pendra', '3289'],\n",
       " ['JanjgirChampa', '405', 'Janjgir', '3277'],\n",
       " ['JanjgirChampa', '405', 'Akaltara', '3278'],\n",
       " ['JanjgirChampa', '405', 'Baloda', '3279'],\n",
       " ['JanjgirChampa', '405', 'Nawagarh', '3280'],\n",
       " ['JanjgirChampa', '405', 'Champa', '3281'],\n",
       " ['JanjgirChampa', '405', 'Sakti', '3282'],\n",
       " ['JanjgirChampa', '405', 'Pamgarh', '3283'],\n",
       " ['JanjgirChampa', '405', 'Dabhra', '3284'],\n",
       " ['JanjgirChampa', '405', 'Malkharoda', '3285'],\n",
       " ['JanjgirChampa', '405', 'Jaijaipur', '3286'],\n",
       " ['Jashpur', '402', 'Bagicha', '3255'],\n",
       " ['Jashpur', '402', 'Kansabel', '3256'],\n",
       " ['Jashpur', '402', 'Jashpur', '3257'],\n",
       " ['Jashpur', '402', 'Manora', '3258'],\n",
       " ['Jashpur', '402', 'Kunkuri', '3259'],\n",
       " ['Jashpur', '402', 'Duldula', '3260'],\n",
       " ['Jashpur', '402', 'Farsabahar', '3261'],\n",
       " ['Jashpur', '402', 'Pathalgaon', '3262'],\n",
       " ['Kabeerdham', '407', 'Kawardha', '3298'],\n",
       " ['Kabeerdham', '407', 'Bodla', '3299'],\n",
       " ['Kabeerdham', '407', 'SahaspurLohara', '3300'],\n",
       " ['Kabeerdham', '407', 'Pandariya', '3301'],\n",
       " ['Kanker', '413', 'Charama', '3348'],\n",
       " ['Kanker', '413', 'Bhanupratappur', '3349'],\n",
       " ['Kanker', '413', 'Durgkondal', '3350'],\n",
       " ['Kanker', '413', 'Kanker', '3351'],\n",
       " ['Kanker', '413', 'Narharpur', '3352'],\n",
       " ['Kanker', '413', 'Antagarh', '3353'],\n",
       " ['Kanker', '413', 'Pakhanjur', '3354'],\n",
       " ['Kondagaon', '419', 'Keskal', '3355'],\n",
       " ['Kondagaon', '419', 'Bade Rajpur', '3356'],\n",
       " ['Kondagaon', '419', 'Kondagaon', '3357'],\n",
       " ['Kondagaon', '419', 'Makdi', '3358'],\n",
       " ['Kondagaon', '419', 'Farasgaon', '3359'],\n",
       " ['Korba', '404', 'Katghora', '3272'],\n",
       " ['Korba', '404', 'PoundiUproda', '3273'],\n",
       " ['Korba', '404', 'Pali', '3274'],\n",
       " ['Korba', '404', 'Korba', '3275'],\n",
       " ['Korba', '404', 'Kartala', '3276'],\n",
       " ['Koriya', '400', 'Bharatpur', '3231'],\n",
       " ['Koriya', '400', 'Baikunthpur', '3232'],\n",
       " ['Koriya', '400', 'Sonhat', '3233'],\n",
       " ['Koriya', '400', 'Manendragarh', '3234'],\n",
       " ['Koriya', '400', 'Khadganva', '3235'],\n",
       " ['Mahasamund', '411', 'Basna', '3339'],\n",
       " ['Mahasamund', '411', 'Saraipali', '3340'],\n",
       " ['Mahasamund', '411', 'Mahasamund', '3341'],\n",
       " ['Mahasamund', '411', 'Pithora', '3342'],\n",
       " ['Mahasamund', '411', 'Bagbahra', '3343'],\n",
       " ['Mungeli', '426', 'Lormi', '3290'],\n",
       " ['Mungeli', '426', 'Mungeli', '3292'],\n",
       " ['Mungeli', '426', 'Pathariya', '3293'],\n",
       " ['Narayanpur', '415', 'Narayanpur', '3367'],\n",
       " ['Narayanpur', '415', 'Orchha', '3368'],\n",
       " ['Raigarh', '403', 'Dharamjaigarh', '3263'],\n",
       " ['Raigarh', '403', 'Lailunga', '3264'],\n",
       " ['Raigarh', '403', 'Gharghoda', '3265'],\n",
       " ['Raigarh', '403', 'Tamnar', '3266'],\n",
       " ['Raigarh', '403', 'Raigarh', '3267'],\n",
       " ['Raigarh', '403', 'Pusour', '3268'],\n",
       " ['Raigarh', '403', 'Kharsia', '3269'],\n",
       " ['Raigarh', '403', 'Sarangarh', '3270'],\n",
       " ['Raigarh', '403', 'Baramkela', '3271'],\n",
       " ['Raipur', '410', 'Arang', '3330'],\n",
       " ['Raipur', '410', 'Abhanpur', '3331'],\n",
       " ['Raipur', '410', 'Raipur', '3332'],\n",
       " ['Raipur', '410', 'Tilda', '3334'],\n",
       " ['Rajnandgaon', '408', 'Chhuikhadan', '3302'],\n",
       " ['Rajnandgaon', '408', 'Khairagarh', '3303'],\n",
       " ['Rajnandgaon', '408', 'Dongargarh', '3304'],\n",
       " ['Rajnandgaon', '408', 'Rajnandgaon', '3305'],\n",
       " ['Rajnandgaon', '408', 'Chhuriya', '3306'],\n",
       " ['Rajnandgaon', '408', 'Dongargaon', '3307'],\n",
       " ['Rajnandgaon', '408', 'Mohla', '3308'],\n",
       " ['Rajnandgaon', '408', 'Manpur', '3309'],\n",
       " ['Rajnandgaon', '408', 'Ambagarh', '3310'],\n",
       " ['Sukma', '424', 'Konta', '3373'],\n",
       " ['Sukma', '424', 'Chhindgarh', '3374'],\n",
       " ['Sukma', '424', 'Sukma', '3375'],\n",
       " ['Surajpur', '423', 'Pratappur', '3239'],\n",
       " ['Surajpur', '423', 'Surajpur', '3242'],\n",
       " ['Surajpur', '423', 'Oudgi', '3243'],\n",
       " ['Surajpur', '423', 'Bhaiyathan', '3244'],\n",
       " ['Surajpur', '423', 'Ramanujnagar', '3245'],\n",
       " ['Surajpur', '423', 'Premnagar', '3246'],\n",
       " ['Surguja', '401', 'Ambikapur', '3247'],\n",
       " ['Surguja', '401', 'Lakhanpur', '3248'],\n",
       " ['Surguja', '401', 'Udaypur', '3249'],\n",
       " ['Surguja', '401', 'Lundra', '3251'],\n",
       " ['Surguja', '401', 'Sitapur', '3252'],\n",
       " ['Surguja', '401', 'Batouli', '3253'],\n",
       " ['Surguja', '401', 'Mainpat', '3254']]"
      ]
     },
     "execution_count": 7,
     "metadata": {},
     "output_type": "execute_result"
    }
   ],
   "source": [
    "m_list"
   ]
  },
  {
   "cell_type": "code",
   "execution_count": 8,
   "metadata": {},
   "outputs": [],
   "source": [
    "for i in range(1,len(m_list)):\n",
    "    if m_list[i][0] in m_dict:\n",
    "        add_value(m_dict,m_list[i][0],m_list[i][2])\n",
    "    else:\n",
    "        m_dict[m_list[i][0]] = m_list[i][2]"
   ]
  },
  {
   "cell_type": "code",
   "execution_count": 9,
   "metadata": {},
   "outputs": [
    {
     "name": "stdout",
     "output_type": "stream",
     "text": [
      "Total Districts 28\n"
     ]
    }
   ],
   "source": [
    "print(\"Total Districts %s\" % len(m_dict))"
   ]
  },
  {
   "cell_type": "code",
   "execution_count": 10,
   "metadata": {},
   "outputs": [],
   "source": [
    "for i in m_dict:\n",
    "    os.mkdir(os.path.join(m_rootpath,i))\n",
    "    for j in m_dict[i]:\n",
    "        os.mkdir(os.path.join(m_rootpath,i,j))"
   ]
  }
 ],
 "metadata": {
  "kernelspec": {
   "display_name": "Python 3",
   "language": "python",
   "name": "python3"
  },
  "language_info": {
   "codemirror_mode": {
    "name": "ipython",
    "version": 3
   },
   "file_extension": ".py",
   "mimetype": "text/x-python",
   "name": "python",
   "nbconvert_exporter": "python",
   "pygments_lexer": "ipython3",
   "version": "3.8.3"
  }
 },
 "nbformat": 4,
 "nbformat_minor": 4
}
