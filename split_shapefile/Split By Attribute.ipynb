{
 "cells": [
  {
   "cell_type": "markdown",
   "metadata": {},
   "source": [
    "# A Simple Python Code to split Shapefiles based on Columns"
   ]
  },
  {
   "cell_type": "code",
   "execution_count": null,
   "metadata": {},
   "outputs": [],
   "source": [
    "import pandas as pd\n",
    "import geopandas as gpd\n",
    "import numpy as np\n",
    "import os"
   ]
  },
  {
   "cell_type": "code",
   "execution_count": null,
   "metadata": {},
   "outputs": [],
   "source": [
    "# Read the shapefile as a geopandas dataframe\n",
    "data = gpd.read_file(r\"D:\\myStudy\\Python\\split_shapefile\\dist.shp\")"
   ]
  },
  {
   "cell_type": "code",
   "execution_count": null,
   "metadata": {
    "scrolled": true
   },
   "outputs": [],
   "source": [
    "print (\"District Name %s\" % data.DIST_NAME.unique()[0])\n",
    "print (\"Tehsil Name %s\" % data.TEH_NAME.unique()[0])\n",
    "print (\"Total Records %s\" % len(data.index))\n",
    "print (\"Number of Villages %s\" % len(data.VILL_NAME.unique()))"
   ]
  },
  {
   "cell_type": "code",
   "execution_count": null,
   "metadata": {},
   "outputs": [],
   "source": [
    "# Check the unique Village Names and check for special characters\n",
    "data.VILL_NAME.unique()"
   ]
  },
  {
   "cell_type": "code",
   "execution_count": null,
   "metadata": {},
   "outputs": [],
   "source": [
    "#Replace the village Names with special characters to normal village names\n",
    "data.loc[(data.VILL_NAME == 'भफौली1'),'VILL_NAME']='भफौली'"
   ]
  },
  {
   "cell_type": "code",
   "execution_count": null,
   "metadata": {},
   "outputs": [],
   "source": [
    "# column names which will be used to split\n",
    "grouped = data.groupby(['VILL_NAME','VILL_NO'])"
   ]
  },
  {
   "cell_type": "code",
   "execution_count": null,
   "metadata": {},
   "outputs": [],
   "source": [
    "# the output base folder. a new folder will be created inside this folder\n",
    "outFolder = r\"D:\\myStudy\\Python\\shapefile_split\\output\"\n",
    "\n",
    "resultFolder = os.path.join(outFolder, data.TEH_NAME.unique()[0])\n",
    "if not os.path.exists(resultFolder):\n",
    "    os.makedirs(resultFolder)"
   ]
  },
  {
   "cell_type": "code",
   "execution_count": null,
   "metadata": {
    "scrolled": true
   },
   "outputs": [],
   "source": [
    "for key, values in grouped:\n",
    "\n",
    "    # Format the filename (replace spaces with underscores)\n",
    "    keys = [str(int) for int in key]\n",
    "    \n",
    "    outName = \"%s.shp\" % '_'.join(keys)\n",
    "\n",
    "    # Print some information for the user\n",
    "    print(\"Processing: %s\" % keys)\n",
    "    \n",
    "    # Create an output path\n",
    "    outpath = os.path.join(resultFolder, outName)\n",
    "    \n",
    "    print (outpath)\n",
    "    # Export the data\n",
    "    values.to_file(outpath,encoding='UTF-8')\n",
    "print(\"Processing Completed\")"
   ]
  }
 ],
 "metadata": {
  "kernelspec": {
   "display_name": "Python 3",
   "language": "python",
   "name": "python3"
  },
  "language_info": {
   "codemirror_mode": {
    "name": "ipython",
    "version": 3
   },
   "file_extension": ".py",
   "mimetype": "text/x-python",
   "name": "python",
   "nbconvert_exporter": "python",
   "pygments_lexer": "ipython3",
   "version": "3.8.3"
  }
 },
 "nbformat": 4,
 "nbformat_minor": 4
}
