{
 "cells": [
  {
   "cell_type": "code",
   "execution_count": 1,
   "id": "ad45f584-c13f-45e8-80a1-596a20ef043b",
   "metadata": {},
   "outputs": [],
   "source": [
    "import pandas as pd\n",
    "from sklearn.feature_extraction.text import CountVectorizer\n",
    "from sklearn.ensemble import IsolationForest\n",
    "from scipy import sparse\n",
    "import numpy as np"
   ]
  },
  {
   "cell_type": "code",
   "execution_count": 2,
   "id": "f95fb9fe-b046-4250-8b8e-cb08bd7c82e4",
   "metadata": {},
   "outputs": [],
   "source": [
    "import matplotlib.pyplot as plt"
   ]
  },
  {
   "cell_type": "code",
   "execution_count": 3,
   "id": "18145393-3551-438d-985a-a326d124e242",
   "metadata": {},
   "outputs": [
    {
     "name": "stdout",
     "output_type": "stream",
     "text": [
      "             GSTIN       HSN       Sector  Sector Code\n",
      "0  22BMWPM3936L1ZF  00440013  Advertising            1\n",
      "1  22AKZPR2078L1ZD  00440013  Advertising            1\n",
      "2  22AUTPB4627K1ZI  00440013  Advertising            1\n",
      "3  22ATSPG2600F2Z5  00440013  Advertising            1\n",
      "4  22AKFPS5510C1ZO  00440013  Advertising            1\n"
     ]
    }
   ],
   "source": [
    "# Step 1: Load the dataset\n",
    "data = pd.read_excel(r'D:\\pythonCode\\Sector Mapping\\DealerMapped_F.xlsx')\n",
    "print (data.head())"
   ]
  },
  {
   "cell_type": "code",
   "execution_count": 4,
   "id": "8778408d-4eb3-44ba-81a6-d9852447ebdc",
   "metadata": {},
   "outputs": [
    {
     "name": "stderr",
     "output_type": "stream",
     "text": [
      "C:\\Users\\hp\\AppData\\Local\\Programs\\Python\\Python311\\Lib\\site-packages\\sklearn\\feature_extraction\\text.py:525: UserWarning: The parameter 'token_pattern' will not be used since 'tokenizer' is not None'\n",
      "  warnings.warn(\n"
     ]
    }
   ],
   "source": [
    "# Step 2: Tokenize and preprocess tags\n",
    "vectorizer = CountVectorizer(tokenizer=lambda x: x.split(','), binary=True)\n",
    "X = vectorizer.fit_transform(data['HSN'])\n",
    "X = sparse.csr_matrix(X)"
   ]
  },
  {
   "cell_type": "code",
   "execution_count": 5,
   "id": "caa9de82-31d4-49a8-a82c-02ff3c724476",
   "metadata": {},
   "outputs": [],
   "source": [
    "# Step 3: Apply Isolation Forest for outlier detection\n",
    "model = IsolationForest(contamination=0.05)  # Adjust the contamination parameter\n",
    "outlier_preds = model.fit_predict(X)"
   ]
  },
  {
   "cell_type": "code",
   "execution_count": 6,
   "id": "d7feb80b-0520-4055-96f3-4e8db3a240e5",
   "metadata": {},
   "outputs": [
    {
     "name": "stdout",
     "output_type": "stream",
     "text": [
      "             GSTIN       HSN       Sector  Sector Code  Anomaly_Score Outlier\n",
      "0  22BMWPM3936L1ZF  00440013  Advertising            1       0.011075  Inlier\n",
      "1  22AKZPR2078L1ZD  00440013  Advertising            1       0.011075  Inlier\n",
      "2  22AUTPB4627K1ZI  00440013  Advertising            1       0.011075  Inlier\n",
      "3  22ATSPG2600F2Z5  00440013  Advertising            1       0.011075  Inlier\n",
      "4  22AKFPS5510C1ZO  00440013  Advertising            1       0.011075  Inlier\n"
     ]
    }
   ],
   "source": [
    "# Step 4: Add outlier predictions and anomaly scores to the DataFrame\n",
    "data['Anomaly_Score'] = model.decision_function(X)\n",
    "data['Outlier'] = np.where(outlier_preds == -1, 'Outlier', 'Inlier')\n",
    "print(data.head())"
   ]
  },
  {
   "cell_type": "code",
   "execution_count": 7,
   "id": "3cde12d9-9b5f-474c-85ec-c73f573e4a25",
   "metadata": {},
   "outputs": [],
   "source": [
    "# Step 5: Save results to a new Excel file\n",
    "data.to_excel(r'D:\\pythonCode\\Sector Mapping\\Sector_data_with_outliers1.xlsx', index=False, engine='openpyxl')"
   ]
  },
  {
   "cell_type": "code",
   "execution_count": 8,
   "id": "273c4465-ad7b-4bd7-bb4e-7d48262072ac",
   "metadata": {},
   "outputs": [],
   "source": [
    "sectors = data['Sector']\n",
    "outlier_preds = data['Outlier']\n",
    "anomaly_scores = data['Anomaly_Score']\n",
    "\n",
    "# Create a dictionary to store counts of inliers and outliers for each movie type\n",
    "type_counts = {}\n",
    "\n",
    "# Create a dictionary to store the mean anomaly score for each movie type\n",
    "type_mean_scores = {}"
   ]
  },
  {
   "cell_type": "code",
   "execution_count": null,
   "id": "0eb1da87-56ee-4099-937d-aefc7d31ce1c",
   "metadata": {},
   "outputs": [],
   "source": [
    "# Calculate counts and mean anomaly scores for each movie type\n",
    "for sector in sectors.unique():\n",
    "    inlier_count = np.sum((sectors == sector) & (outlier_preds == 'Inlier'))\n",
    "    outlier_count = np.sum((sectors == sector) & (outlier_preds == 'Outlier'))\n",
    "    mean_score = np.mean(anomaly_scores[sectors == sector])\n",
    "    \n",
    "    type_counts[sector] = {'Inliers': inlier_count, 'Outliers': outlier_count}\n",
    "    type_mean_scores[sector] = mean_score\n",
    "\n",
    "\n",
    "\n",
    "# Create the histogram\n",
    "fig, ax = plt.subplots(2, 1, figsize=(12,12))\n",
    "\n",
    "# Plot the total inliers and outliers\n",
    "ax[0].bar(type_counts.keys(), [tc['Inliers'] for tc in type_counts.values()], label='Inliers', color='green')\n",
    "ax[0].bar(type_counts.keys(), [tc['Outliers'] for tc in type_counts.values()], bottom=[tc['Inliers'] for tc in type_counts.values()], label='Outliers', color='red')\n",
    "\n",
    "ax[0].set_ylabel('Count')\n",
    "ax[0].set_title('Total Inliers and Outliers by Sectors')\n",
    "ax[0].legend()\n",
    "\n",
    "# Plot the mean anomaly score\n",
    "ax[1].bar(type_mean_scores.keys(), type_mean_scores.values(), color='blue')\n",
    "\n",
    "ax[1].set_ylabel('Mean Anomaly Score')\n",
    "ax[1].set_title('Mean Anomaly Score by Movie Type')\n",
    "\n",
    "# Rotate x-axis labels by 90 degrees and make them smaller\n",
    "for a in ax:\n",
    "    a.tick_params(axis='x', labelrotation=90)\n",
    "    a.tick_params(axis='x', labelsize=8)\n",
    "\n",
    "plt.tight_layout()\n",
    "plt.show()"
   ]
  },
  {
   "cell_type": "code",
   "execution_count": null,
   "id": "be915e09-a381-4b62-b588-7cd108ade850",
   "metadata": {},
   "outputs": [],
   "source": [
    "# Sort movie types by mean anomaly score (ascending)\n",
    "sorted_movie_types = sorted(type_mean_scores.keys(), key=lambda k: type_mean_scores[k])\n",
    "\n",
    "# Create the histogram\n",
    "fig, ax = plt.subplots(2, 1, figsize=(12, 12))\n",
    "\n",
    "# Plot the total inliers and outliers in the sorted order\n",
    "ax[0].bar(sorted_movie_types, [type_counts[mt]['Inliers'] for mt in sorted_movie_types], label='Inliers', color='green')\n",
    "ax[0].bar(sorted_movie_types, [type_counts[mt]['Outliers'] for mt in sorted_movie_types], bottom=[type_counts[mt]['Inliers'] for mt in sorted_movie_types], label='Outliers', color='red')\n",
    "\n",
    "ax[0].set_ylabel('Count')\n",
    "ax[0].set_title('Total Inliers and Outliers by Sectors (Sorted by Anomaly Score)')\n",
    "ax[0].legend()\n",
    "\n",
    "# Plot the mean anomaly score in the sorted order\n",
    "ax[1].bar(sorted_movie_types, [type_mean_scores[mt] for mt in sorted_movie_types], color='blue')\n",
    "\n",
    "ax[1].set_ylabel('Mean Anomaly Score')\n",
    "ax[1].set_title('Mean Anomaly Score by Movie Type (Sorted by Anomaly Score)')\n",
    "\n",
    "# Rotate x-axis labels by 90 degrees and make them smaller\n",
    "for a in ax:\n",
    "    a.tick_params(axis='x', labelrotation=90)\n",
    "    a.tick_params(axis='x', labelsize=8)\n",
    "\n",
    "plt.tight_layout()\n",
    "plt.show()"
   ]
  }
 ],
 "metadata": {
  "kernelspec": {
   "display_name": "Python 3 (ipykernel)",
   "language": "python",
   "name": "python3"
  },
  "language_info": {
   "codemirror_mode": {
    "name": "ipython",
    "version": 3
   },
   "file_extension": ".py",
   "mimetype": "text/x-python",
   "name": "python",
   "nbconvert_exporter": "python",
   "pygments_lexer": "ipython3",
   "version": "3.11.3"
  }
 },
 "nbformat": 4,
 "nbformat_minor": 5
}
