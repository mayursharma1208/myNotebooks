{
 "cells": [
  {
   "cell_type": "code",
   "execution_count": null,
   "metadata": {},
   "outputs": [],
   "source": [
    "import os\n",
    "import pandas as pd\n",
    "import json"
   ]
  },
  {
   "cell_type": "code",
   "execution_count": null,
   "metadata": {},
   "outputs": [],
   "source": [
    "m_basepath = 'D:\\myOfficeWork\\Others\\swaas_panchayat_from_nic\\School_tehsil_level'\n",
    "m_distlist = os.listdir(m_basepath)\n",
    "m_atmpath = []\n",
    "for i in m_distlist:\n",
    "    m_atmpath.append(m_basepath+'/'+i)"
   ]
  },
  {
   "cell_type": "code",
   "execution_count": null,
   "metadata": {
    "scrolled": true
   },
   "outputs": [],
   "source": [
    "for i in m_atmpath:\n",
    "    print(\"Processing \",i)\n",
    "    print(\"district number\",os.path.splitext(os.path.basename(i))[0])\n",
    "    with open(i ,encoding='utf8') as data_file:\n",
    "        data = json.load(data_file)\n",
    "        df = pd.json_normalize(data, 'results')\n",
    "        print (\"Total Records\",len(df.index))\n",
    "        file_name = os.path.splitext(os.path.basename(i))[0]+'.csv'\n",
    "        path_name = os.path.join(m_basepath,file_name)\n",
    "        df.to_csv(path_name,encoding='utf8')\n",
    "        print(path_name,\"Completed\")\n",
    "        print(\" ====\")\n",
    "print(\" == Process Completed ==\")"
   ]
  },
  {
   "cell_type": "code",
   "execution_count": null,
   "metadata": {},
   "outputs": [],
   "source": []
  }
 ],
 "metadata": {
  "kernelspec": {
   "display_name": "Python 3",
   "language": "python",
   "name": "python3"
  },
  "language_info": {
   "codemirror_mode": {
    "name": "ipython",
    "version": 3
   },
   "file_extension": ".py",
   "mimetype": "text/x-python",
   "name": "python",
   "nbconvert_exporter": "python",
   "pygments_lexer": "ipython3",
   "version": "3.8.3"
  }
 },
 "nbformat": 4,
 "nbformat_minor": 4
}
