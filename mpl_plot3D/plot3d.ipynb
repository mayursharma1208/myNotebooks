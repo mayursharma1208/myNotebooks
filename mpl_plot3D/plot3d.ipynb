{
 "cells": [
  {
   "cell_type": "markdown",
   "metadata": {},
   "source": [
    "# A simple script to plot 3D Lines from a CSV File"
   ]
  },
  {
   "cell_type": "code",
   "execution_count": 1,
   "metadata": {},
   "outputs": [],
   "source": [
    "import pandas as pd\n",
    "import numpy as np\n",
    "import datetime\n",
    "import matplotlib.pyplot as plt\n"
   ]
  },
  {
   "cell_type": "code",
   "execution_count": 4,
   "metadata": {
    "scrolled": true
   },
   "outputs": [
    {
     "data": {
      "text/html": [
       "<div>\n",
       "<style scoped>\n",
       "    .dataframe tbody tr th:only-of-type {\n",
       "        vertical-align: middle;\n",
       "    }\n",
       "\n",
       "    .dataframe tbody tr th {\n",
       "        vertical-align: top;\n",
       "    }\n",
       "\n",
       "    .dataframe thead th {\n",
       "        text-align: right;\n",
       "    }\n",
       "</style>\n",
       "<table border=\"1\" class=\"dataframe\">\n",
       "  <thead>\n",
       "    <tr style=\"text-align: right;\">\n",
       "      <th></th>\n",
       "      <th>name</th>\n",
       "      <th>id</th>\n",
       "      <th>lat</th>\n",
       "      <th>lon</th>\n",
       "      <th>cumulative_revenue</th>\n",
       "      <th>capital_cost</th>\n",
       "      <th>traffic_per_day</th>\n",
       "    </tr>\n",
       "  </thead>\n",
       "  <tbody>\n",
       "    <tr>\n",
       "      <th>0</th>\n",
       "      <td>Daroda</td>\n",
       "      <td>49</td>\n",
       "      <td>17.801103</td>\n",
       "      <td>78.471683</td>\n",
       "      <td>30.99</td>\n",
       "      <td>268.37</td>\n",
       "      <td>9739</td>\n",
       "    </tr>\n",
       "    <tr>\n",
       "      <th>1</th>\n",
       "      <td>Kelapur</td>\n",
       "      <td>51</td>\n",
       "      <td>18.205251</td>\n",
       "      <td>78.398261</td>\n",
       "      <td>41.24</td>\n",
       "      <td>161.00</td>\n",
       "      <td>11404</td>\n",
       "    </tr>\n",
       "    <tr>\n",
       "      <th>2</th>\n",
       "      <td>Allonia</td>\n",
       "      <td>62</td>\n",
       "      <td>18.538266</td>\n",
       "      <td>78.239734</td>\n",
       "      <td>109.25</td>\n",
       "      <td>90.00</td>\n",
       "      <td>14947</td>\n",
       "    </tr>\n",
       "    <tr>\n",
       "      <th>3</th>\n",
       "      <td>Gondhkhairi/ Kondhali</td>\n",
       "      <td>119</td>\n",
       "      <td>19.026592</td>\n",
       "      <td>78.362705</td>\n",
       "      <td>129.02</td>\n",
       "      <td>168.00</td>\n",
       "      <td>13249</td>\n",
       "    </tr>\n",
       "    <tr>\n",
       "      <th>4</th>\n",
       "      <td>Rolmamda</td>\n",
       "      <td>144</td>\n",
       "      <td>19.099047</td>\n",
       "      <td>78.213399</td>\n",
       "      <td>161.11</td>\n",
       "      <td>546.29</td>\n",
       "      <td>15927</td>\n",
       "    </tr>\n",
       "  </tbody>\n",
       "</table>\n",
       "</div>"
      ],
      "text/plain": [
       "                    name   id        lat        lon  cumulative_revenue  \\\n",
       "0                 Daroda   49  17.801103  78.471683               30.99   \n",
       "1                Kelapur   51  18.205251  78.398261               41.24   \n",
       "2                Allonia   62  18.538266  78.239734              109.25   \n",
       "3  Gondhkhairi/ Kondhali  119  19.026592  78.362705              129.02   \n",
       "4               Rolmamda  144  19.099047  78.213399              161.11   \n",
       "\n",
       "   capital_cost  traffic_per_day  \n",
       "0        268.37             9739  \n",
       "1        161.00            11404  \n",
       "2         90.00            14947  \n",
       "3        168.00            13249  \n",
       "4        546.29            15927  "
      ]
     },
     "execution_count": 4,
     "metadata": {},
     "output_type": "execute_result"
    }
   ],
   "source": [
    "#myData = pd.read_csv(r'D:\\myStudy\\Python\\3dPlot\\dataNew.csv')\n",
    "myData = pd.read_csv(r'D:\\myStudy\\Python\\mpl_plot3D\\dataNew.csv')\n",
    "\n",
    "myData.head()"
   ]
  },
  {
   "cell_type": "code",
   "execution_count": 6,
   "metadata": {},
   "outputs": [],
   "source": [
    "x = np.array(myData['lon'])\n",
    "y = np.array(myData['lat'])\n",
    "z = np.array(myData['traffic_per_day'])"
   ]
  },
  {
   "cell_type": "markdown",
   "metadata": {},
   "source": [
    "## Using Matplotlib"
   ]
  },
  {
   "cell_type": "code",
   "execution_count": 7,
   "metadata": {
    "scrolled": false
   },
   "outputs": [
    {
     "data": {
      "application/vnd.jupyter.widget-view+json": {
       "model_id": "5ec095aaa6e64e63ac7014df998d55f9",
       "version_major": 2,
       "version_minor": 0
      },
      "text/plain": [
       "Canvas(toolbar=Toolbar(toolitems=[('Home', 'Reset original view', 'home', 'home'), ('Back', 'Back to previous …"
      ]
     },
     "metadata": {},
     "output_type": "display_data"
    }
   ],
   "source": [
    " %matplotlib widget \n",
    "fig = plt.figure(figsize = (6,6))\n",
    "ax = fig.add_subplot(111,projection='3d')\n",
    "\n",
    "ax.plot3D(x, y, z, color='gray')\n",
    "\n",
    "ax.scatter(x, y, z, linewidths=1, alpha=.7,s = 20,c=z)\n",
    "\n",
    "ax.set_xlabel('Longitude')\n",
    "ax.set_ylabel('Latitude')\n",
    "ax.set_zlabel('CO2')\n",
    "plt.title(\"Carbon DiOxide\") \n",
    "\n",
    "plt.show()\n"
   ]
  }
 ],
 "metadata": {
  "kernelspec": {
   "display_name": "Python 3",
   "language": "python",
   "name": "python3"
  },
  "language_info": {
   "codemirror_mode": {
    "name": "ipython",
    "version": 3
   },
   "file_extension": ".py",
   "mimetype": "text/x-python",
   "name": "python",
   "nbconvert_exporter": "python",
   "pygments_lexer": "ipython3",
   "version": "3.8.3"
  }
 },
 "nbformat": 4,
 "nbformat_minor": 4
}
