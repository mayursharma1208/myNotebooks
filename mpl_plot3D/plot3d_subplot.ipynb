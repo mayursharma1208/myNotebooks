{
 "cells": [
  {
   "cell_type": "markdown",
   "metadata": {},
   "source": [
    "# A simple script to plot 3D Lines from a CSV File"
   ]
  },
  {
   "cell_type": "code",
   "execution_count": 1,
   "metadata": {},
   "outputs": [],
   "source": [
    "import pandas as pd\n",
    "import numpy as np\n",
    "import datetime\n",
    "import matplotlib.pyplot as plt\n"
   ]
  },
  {
   "cell_type": "code",
   "execution_count": 2,
   "metadata": {
    "scrolled": true
   },
   "outputs": [
    {
     "data": {
      "text/html": [
       "<div>\n",
       "<style scoped>\n",
       "    .dataframe tbody tr th:only-of-type {\n",
       "        vertical-align: middle;\n",
       "    }\n",
       "\n",
       "    .dataframe tbody tr th {\n",
       "        vertical-align: top;\n",
       "    }\n",
       "\n",
       "    .dataframe thead th {\n",
       "        text-align: right;\n",
       "    }\n",
       "</style>\n",
       "<table border=\"1\" class=\"dataframe\">\n",
       "  <thead>\n",
       "    <tr style=\"text-align: right;\">\n",
       "      <th></th>\n",
       "      <th>Date_Time</th>\n",
       "      <th>Temp</th>\n",
       "      <th>Humidity</th>\n",
       "      <th>CO2</th>\n",
       "      <th>Air Quality</th>\n",
       "      <th>Nox</th>\n",
       "      <th>CO</th>\n",
       "      <th>Dust</th>\n",
       "      <th>Pressure</th>\n",
       "      <th>Altitude</th>\n",
       "      <th>Lat</th>\n",
       "      <th>Lon</th>\n",
       "    </tr>\n",
       "  </thead>\n",
       "  <tbody>\n",
       "    <tr>\n",
       "      <th>0</th>\n",
       "      <td>2020-12-18 11:11:04</td>\n",
       "      <td>29</td>\n",
       "      <td>44</td>\n",
       "      <td>0.63</td>\n",
       "      <td>0.04</td>\n",
       "      <td>0.17</td>\n",
       "      <td>0.04</td>\n",
       "      <td>174.42</td>\n",
       "      <td>98108</td>\n",
       "      <td>285.99</td>\n",
       "      <td>21.245005</td>\n",
       "      <td>81.644005</td>\n",
       "    </tr>\n",
       "    <tr>\n",
       "      <th>1</th>\n",
       "      <td>2020-12-18 11:11:25</td>\n",
       "      <td>29</td>\n",
       "      <td>42</td>\n",
       "      <td>0.56</td>\n",
       "      <td>0.05</td>\n",
       "      <td>0.13</td>\n",
       "      <td>0.04</td>\n",
       "      <td>201.64</td>\n",
       "      <td>98105</td>\n",
       "      <td>285.99</td>\n",
       "      <td>21.245012</td>\n",
       "      <td>81.644012</td>\n",
       "    </tr>\n",
       "    <tr>\n",
       "      <th>2</th>\n",
       "      <td>2020-12-18 11:11:46</td>\n",
       "      <td>30</td>\n",
       "      <td>41</td>\n",
       "      <td>0.56</td>\n",
       "      <td>0.05</td>\n",
       "      <td>0.13</td>\n",
       "      <td>0.03</td>\n",
       "      <td>210.38</td>\n",
       "      <td>98103</td>\n",
       "      <td>286.16</td>\n",
       "      <td>21.245016</td>\n",
       "      <td>81.644028</td>\n",
       "    </tr>\n",
       "    <tr>\n",
       "      <th>3</th>\n",
       "      <td>2020-12-18 11:12:07</td>\n",
       "      <td>31</td>\n",
       "      <td>40</td>\n",
       "      <td>0.55</td>\n",
       "      <td>0.05</td>\n",
       "      <td>0.12</td>\n",
       "      <td>0.04</td>\n",
       "      <td>209.30</td>\n",
       "      <td>98107</td>\n",
       "      <td>285.99</td>\n",
       "      <td>21.245041</td>\n",
       "      <td>81.644012</td>\n",
       "    </tr>\n",
       "    <tr>\n",
       "      <th>4</th>\n",
       "      <td>2020-12-18 11:12:28</td>\n",
       "      <td>31</td>\n",
       "      <td>39</td>\n",
       "      <td>0.54</td>\n",
       "      <td>0.05</td>\n",
       "      <td>0.12</td>\n",
       "      <td>0.04</td>\n",
       "      <td>266.21</td>\n",
       "      <td>98100</td>\n",
       "      <td>286.16</td>\n",
       "      <td>21.245022</td>\n",
       "      <td>81.644043</td>\n",
       "    </tr>\n",
       "  </tbody>\n",
       "</table>\n",
       "</div>"
      ],
      "text/plain": [
       "            Date_Time  Temp  Humidity   CO2  Air Quality   Nox    CO    Dust  \\\n",
       "0 2020-12-18 11:11:04    29        44  0.63         0.04  0.17  0.04  174.42   \n",
       "1 2020-12-18 11:11:25    29        42  0.56         0.05  0.13  0.04  201.64   \n",
       "2 2020-12-18 11:11:46    30        41  0.56         0.05  0.13  0.03  210.38   \n",
       "3 2020-12-18 11:12:07    31        40  0.55         0.05  0.12  0.04  209.30   \n",
       "4 2020-12-18 11:12:28    31        39  0.54         0.05  0.12  0.04  266.21   \n",
       "\n",
       "   Pressure  Altitude        Lat        Lon  \n",
       "0     98108    285.99  21.245005  81.644005  \n",
       "1     98105    285.99  21.245012  81.644012  \n",
       "2     98103    286.16  21.245016  81.644028  \n",
       "3     98107    285.99  21.245041  81.644012  \n",
       "4     98100    286.16  21.245022  81.644043  "
      ]
     },
     "execution_count": 2,
     "metadata": {},
     "output_type": "execute_result"
    }
   ],
   "source": [
    "#myData = pd.read_csv(r'D:\\myStudy\\Python\\3dPlot\\dataNew.csv')\n",
    "myData = pd.read_csv(r'D:\\myStudy\\Python\\mpl_plot3D\\atmosphere.csv',parse_dates=[['Date', 'Time']])\n",
    "\n",
    "myData.head()"
   ]
  },
  {
   "cell_type": "code",
   "execution_count": 3,
   "metadata": {},
   "outputs": [],
   "source": [
    "x = np.array(myData['Lon'])\n",
    "y = np.array(myData['Lat'])\n",
    "z = np.array(myData['CO2'])\n",
    "t = np.array(myData['Date_Time'])"
   ]
  },
  {
   "cell_type": "markdown",
   "metadata": {},
   "source": [
    "## Using Matplotlib"
   ]
  },
  {
   "cell_type": "code",
   "execution_count": 4,
   "metadata": {
    "scrolled": false
   },
   "outputs": [
    {
     "data": {
      "application/vnd.jupyter.widget-view+json": {
       "model_id": "b7e02a9dc35346c99dbf594d74226af1",
       "version_major": 2,
       "version_minor": 0
      },
      "text/plain": [
       "Canvas(toolbar=Toolbar(toolitems=[('Home', 'Reset original view', 'home', 'home'), ('Back', 'Back to previous …"
      ]
     },
     "metadata": {},
     "output_type": "display_data"
    }
   ],
   "source": [
    " %matplotlib widget \n",
    "fig = plt.figure(figsize = (6,6))\n",
    "ax = fig.add_subplot(111,projection='3d')\n",
    "\n",
    "ax.plot3D(x, y, z, color='gray')\n",
    "\n",
    "ax.scatter(x, y, z, linewidths=1, alpha=.7,s = 20,c=z)\n",
    "\n",
    "ax.set_xlabel('Longitude')\n",
    "ax.set_ylabel('Latitude')\n",
    "ax.set_zlabel('CO2')\n",
    "plt.title(\"Carbon DiOxide\") \n",
    "\n",
    "plt.show()\n"
   ]
  },
  {
   "cell_type": "code",
   "execution_count": 12,
   "metadata": {},
   "outputs": [],
   "source": [
    "def avg_subset(data):\n",
    "    data_mean = data.mean(axis = 0,numeric_only = True)\n",
    "    data_frame = data_mean.to_frame().transpose()\n",
    "    return data_frame"
   ]
  },
  {
   "cell_type": "code",
   "execution_count": 5,
   "metadata": {
    "scrolled": true
   },
   "outputs": [],
   "source": [
    "data1 = myData[myData['Date_Time'] <= '2020-12-18 12:00:00']\n",
    "data2 = myData[(myData['Date_Time'] >= '2020-12-18 12:00:00') & (myData['Date_Time'] <= '2020-12-18 23:00:00')]\n",
    "data3 = myData[(myData['Date_Time'] >= '2020-12-20 11:00:00') & (myData['Date_Time'] <= '2020-12-20 12:00:00')]\n",
    "data4 = myData[myData['Date_Time'] >= '2020-12-20 12:00:00']"
   ]
  },
  {
   "cell_type": "code",
   "execution_count": 13,
   "metadata": {},
   "outputs": [],
   "source": [
    "mean_data1 = avg_subset(data1)\n",
    "mean_data2 = avg_subset(data2)\n",
    "mean_data3 = avg_subset(data3)\n",
    "mean_data4 = avg_subset(data4)"
   ]
  },
  {
   "cell_type": "code",
   "execution_count": 14,
   "metadata": {},
   "outputs": [
    {
     "data": {
      "text/html": [
       "<div>\n",
       "<style scoped>\n",
       "    .dataframe tbody tr th:only-of-type {\n",
       "        vertical-align: middle;\n",
       "    }\n",
       "\n",
       "    .dataframe tbody tr th {\n",
       "        vertical-align: top;\n",
       "    }\n",
       "\n",
       "    .dataframe thead th {\n",
       "        text-align: right;\n",
       "    }\n",
       "</style>\n",
       "<table border=\"1\" class=\"dataframe\">\n",
       "  <thead>\n",
       "    <tr style=\"text-align: right;\">\n",
       "      <th></th>\n",
       "      <th>Temp</th>\n",
       "      <th>Humidity</th>\n",
       "      <th>CO2</th>\n",
       "      <th>Air Quality</th>\n",
       "      <th>Nox</th>\n",
       "      <th>CO</th>\n",
       "      <th>Dust</th>\n",
       "      <th>Pressure</th>\n",
       "      <th>Altitude</th>\n",
       "      <th>Lat</th>\n",
       "      <th>Lon</th>\n",
       "    </tr>\n",
       "  </thead>\n",
       "  <tbody>\n",
       "    <tr>\n",
       "      <th>0</th>\n",
       "      <td>32.481481</td>\n",
       "      <td>36.629630</td>\n",
       "      <td>0.552222</td>\n",
       "      <td>0.047037</td>\n",
       "      <td>0.124815</td>\n",
       "      <td>0.034815</td>\n",
       "      <td>233.365556</td>\n",
       "      <td>98121.111111</td>\n",
       "      <td>284.651852</td>\n",
       "      <td>21.245001</td>\n",
       "      <td>81.644011</td>\n",
       "    </tr>\n",
       "    <tr>\n",
       "      <th>0</th>\n",
       "      <td>26.038462</td>\n",
       "      <td>50.307692</td>\n",
       "      <td>0.600385</td>\n",
       "      <td>0.054615</td>\n",
       "      <td>0.163846</td>\n",
       "      <td>0.035769</td>\n",
       "      <td>235.445385</td>\n",
       "      <td>97883.615385</td>\n",
       "      <td>305.054231</td>\n",
       "      <td>21.245036</td>\n",
       "      <td>81.644094</td>\n",
       "    </tr>\n",
       "    <tr>\n",
       "      <th>0</th>\n",
       "      <td>33.444444</td>\n",
       "      <td>12.518519</td>\n",
       "      <td>0.498889</td>\n",
       "      <td>0.036667</td>\n",
       "      <td>0.100370</td>\n",
       "      <td>0.029630</td>\n",
       "      <td>231.154815</td>\n",
       "      <td>98262.185185</td>\n",
       "      <td>272.660741</td>\n",
       "      <td>21.245000</td>\n",
       "      <td>81.644058</td>\n",
       "    </tr>\n",
       "    <tr>\n",
       "      <th>0</th>\n",
       "      <td>24.148148</td>\n",
       "      <td>25.518519</td>\n",
       "      <td>0.520741</td>\n",
       "      <td>0.035556</td>\n",
       "      <td>0.117037</td>\n",
       "      <td>0.028519</td>\n",
       "      <td>232.418889</td>\n",
       "      <td>97903.518519</td>\n",
       "      <td>302.695185</td>\n",
       "      <td>21.245032</td>\n",
       "      <td>81.644052</td>\n",
       "    </tr>\n",
       "  </tbody>\n",
       "</table>\n",
       "</div>"
      ],
      "text/plain": [
       "        Temp   Humidity       CO2  Air Quality       Nox        CO  \\\n",
       "0  32.481481  36.629630  0.552222     0.047037  0.124815  0.034815   \n",
       "0  26.038462  50.307692  0.600385     0.054615  0.163846  0.035769   \n",
       "0  33.444444  12.518519  0.498889     0.036667  0.100370  0.029630   \n",
       "0  24.148148  25.518519  0.520741     0.035556  0.117037  0.028519   \n",
       "\n",
       "         Dust      Pressure    Altitude        Lat        Lon  \n",
       "0  233.365556  98121.111111  284.651852  21.245001  81.644011  \n",
       "0  235.445385  97883.615385  305.054231  21.245036  81.644094  \n",
       "0  231.154815  98262.185185  272.660741  21.245000  81.644058  \n",
       "0  232.418889  97903.518519  302.695185  21.245032  81.644052  "
      ]
     },
     "execution_count": 14,
     "metadata": {},
     "output_type": "execute_result"
    }
   ],
   "source": [
    "avg_data = pd.concat([mean_data1,mean_data2,mean_data3,mean_data4])\n",
    "avg_data"
   ]
  },
  {
   "cell_type": "code",
   "execution_count": 17,
   "metadata": {},
   "outputs": [
    {
     "data": {
      "application/vnd.jupyter.widget-view+json": {
       "model_id": "f46a011b80924867be9eff4592e54467",
       "version_major": 2,
       "version_minor": 0
      },
      "text/plain": [
       "Canvas(toolbar=Toolbar(toolitems=[('Home', 'Reset original view', 'home', 'home'), ('Back', 'Back to previous …"
      ]
     },
     "metadata": {},
     "output_type": "display_data"
    }
   ],
   "source": [
    "avg_x = np.array(avg_data['Lon'])\n",
    "avg_y = np.array(avg_data['Lat'])\n",
    "avg_z = np.array(avg_data['CO2'])\n",
    "\n",
    "%matplotlib widget \n",
    "fig = plt.figure(figsize = (6,6))\n",
    "ax = fig.add_subplot(111,projection='3d')\n",
    "\n",
    "#ax.plot3D(avg_x, avg_y, avg_z, color='gray')\n",
    "\n",
    "ax.scatter(avg_x, avg_y, avg_z, linewidths=1, alpha=.7,s = 100,c=avg_z,picker=True)\n",
    "\n",
    "ax.set_xlabel('Longitude')\n",
    "ax.set_ylabel('Latitude')\n",
    "ax.set_zlabel('CO2')\n",
    "plt.title(\"Carbon DiOxide\") \n",
    "\n",
    "plt.show()"
   ]
  },
  {
   "cell_type": "code",
   "execution_count": 21,
   "metadata": {},
   "outputs": [
    {
     "data": {
      "application/vnd.jupyter.widget-view+json": {
       "model_id": "fa50638bfff64ca8b69ebec7bb7aea5b",
       "version_major": 2,
       "version_minor": 0
      },
      "text/plain": [
       "Canvas(toolbar=Toolbar(toolitems=[('Home', 'Reset original view', 'home', 'home'), ('Back', 'Back to previous …"
      ]
     },
     "metadata": {},
     "output_type": "display_data"
    }
   ],
   "source": [
    " %matplotlib widget \n",
    "fig, axs = plt.subplots(2,2,sharey='all',gridspec_kw={ 'wspace': 0})\n",
    "co2 = np.array(data1['CO2'])\n",
    "time = pd.to_datetime(data1['Date_Time'])\n",
    "axs[0,0].plot(time,co2)\n",
    "co2 = np.array(data2['CO2'])\n",
    "time = pd.to_datetime(data2['Date_Time'])\n",
    "axs[0,1].plot(time,co2)\n",
    "\n",
    "co2 = np.array(data3['CO2'])\n",
    "time = pd.to_datetime(data3['Date_Time'])\n",
    "axs[1,0].plot(time,co2)\n",
    "co2 = np.array(data4['CO2'])\n",
    "time = pd.to_datetime(data4['Date_Time'])\n",
    "axs[1,1].plot(time,co2)\n",
    "\n",
    "plt.show()"
   ]
  }
 ],
 "metadata": {
  "kernelspec": {
   "display_name": "Python 3",
   "language": "python",
   "name": "python3"
  },
  "language_info": {
   "codemirror_mode": {
    "name": "ipython",
    "version": 3
   },
   "file_extension": ".py",
   "mimetype": "text/x-python",
   "name": "python",
   "nbconvert_exporter": "python",
   "pygments_lexer": "ipython3",
   "version": "3.8.3"
  }
 },
 "nbformat": 4,
 "nbformat_minor": 4
}
