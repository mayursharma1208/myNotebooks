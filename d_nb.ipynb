{
 "cells": [
  {
   "cell_type": "code",
   "execution_count": 1,
   "id": "67c7cf3a-d143-42d0-a887-c3a91a469eaf",
   "metadata": {},
   "outputs": [],
   "source": [
    "import pandas as pd\n",
    "from sklearn.feature_extraction.text import CountVectorizer\n",
    "from sklearn.feature_selection import SelectKBest, chi2\n",
    "from sklearn.model_selection import train_test_split\n",
    "from sklearn.naive_bayes import MultinomialNB\n",
    "from sklearn.metrics import accuracy_score"
   ]
  },
  {
   "cell_type": "code",
   "execution_count": 2,
   "id": "aee2bace-44a6-452a-bfc5-ebeee6806bf2",
   "metadata": {},
   "outputs": [
    {
     "name": "stdout",
     "output_type": "stream",
     "text": [
      "                 GSTIN            HSN          Sector  Sector Code  \\\n",
      "0      22BMWPM3936L1ZF       00440013     Advertising            1   \n",
      "1      22AKZPR2078L1ZD       00440013     Advertising            1   \n",
      "2      22AUTPB4627K1ZI       00440013     Advertising            1   \n",
      "3      22ATSPG2600F2Z5       00440013     Advertising            1   \n",
      "4      22AKFPS5510C1ZO       00440013     Advertising            1   \n",
      "...                ...            ...             ...          ...   \n",
      "44380  22ABKPK5356J2ZI         999621  Works Contract           59   \n",
      "44381  22ARNPR6016R1Z5  999633,995428  Works Contract           59   \n",
      "44382  22AAFFO7423E1ZM  999691,999699  Works Contract           59   \n",
      "44383  22AYQPG4386D1ZF         999799  Works Contract           59   \n",
      "44384  22DKIPK2459A1ZK         999799  Works Contract           59   \n",
      "\n",
      "       Anomaly_Score Outlier  \n",
      "0           0.012104  Inlier  \n",
      "1           0.012104  Inlier  \n",
      "2           0.012104  Inlier  \n",
      "3           0.012104  Inlier  \n",
      "4           0.012104  Inlier  \n",
      "...              ...     ...  \n",
      "44380       0.011508  Inlier  \n",
      "44381       0.012308  Inlier  \n",
      "44382       0.014125  Inlier  \n",
      "44383       0.014125  Inlier  \n",
      "44384       0.014125  Inlier  \n",
      "\n",
      "[44385 rows x 6 columns]\n",
      "                 GSTIN            HSN          Sector  Sector Code  \\\n",
      "0      22BMWPM3936L1ZF       00440013     Advertising            1   \n",
      "1      22AKZPR2078L1ZD       00440013     Advertising            1   \n",
      "2      22AUTPB4627K1ZI       00440013     Advertising            1   \n",
      "3      22ATSPG2600F2Z5       00440013     Advertising            1   \n",
      "4      22AKFPS5510C1ZO       00440013     Advertising            1   \n",
      "...                ...            ...             ...          ...   \n",
      "44380  22ABKPK5356J2ZI         999621  Works Contract           59   \n",
      "44381  22ARNPR6016R1Z5  999633,995428  Works Contract           59   \n",
      "44382  22AAFFO7423E1ZM  999691,999699  Works Contract           59   \n",
      "44383  22AYQPG4386D1ZF         999799  Works Contract           59   \n",
      "44384  22DKIPK2459A1ZK         999799  Works Contract           59   \n",
      "\n",
      "       Anomaly_Score Outlier  \n",
      "0           0.012104  Inlier  \n",
      "1           0.012104  Inlier  \n",
      "2           0.012104  Inlier  \n",
      "3           0.012104  Inlier  \n",
      "4           0.012104  Inlier  \n",
      "...              ...     ...  \n",
      "44380       0.011508  Inlier  \n",
      "44381       0.012308  Inlier  \n",
      "44382       0.014125  Inlier  \n",
      "44383       0.014125  Inlier  \n",
      "44384       0.014125  Inlier  \n",
      "\n",
      "[42165 rows x 6 columns]\n"
     ]
    }
   ],
   "source": [
    "# Load the dataset\n",
    "df = pd.read_excel(r'D:\\pythonCode\\Sector Mapping\\Sector_data_with_outliers.xlsx')\n",
    "print (df)\n",
    "df = df[df['Outlier'] == 'Inlier']\n",
    "print(df)\n",
    "max_tokens = 10\n",
    "# Split the 'HSN' column into a list of tokens\n",
    "##df['HSN'] = df['HSN'].str.split(',', n=max_tokens - 1)"
   ]
  },
  {
   "cell_type": "code",
   "execution_count": 4,
   "id": "05acb3f0-b5df-42f4-b5e6-1630e82f0110",
   "metadata": {},
   "outputs": [],
   "source": [
    "# Text Processing\n",
    "df['HSN'] = df['HSN'].str.replace(',', ' ')\n",
    "\n",
    "# Split the data into training and testing sets\n",
    "X = df['HSN']  # Input feature\n",
    "y = df['Sector']  # Target variable\n",
    "X_train, X_test, y_train, y_test = train_test_split(X, y, test_size=0.2, random_state=42)\n"
   ]
  },
  {
   "cell_type": "code",
   "execution_count": 5,
   "id": "263f9d9c-ec29-402c-8034-b5e77e2ebcf9",
   "metadata": {},
   "outputs": [],
   "source": [
    "\n",
    "# Create a CountVectorizer to convert text to numerical features\n",
    "vectorizer = CountVectorizer()\n",
    "X_train_vectorized = vectorizer.fit_transform(X_train)\n",
    "X_test_vectorized = vectorizer.transform(X_test)\n",
    "\n"
   ]
  },
  {
   "cell_type": "code",
   "execution_count": 10,
   "id": "2ca7b2ca-2967-42be-9a25-d27c0aaad5f3",
   "metadata": {},
   "outputs": [],
   "source": [
    "# Feature Selection using Chi-Squared test\n",
    "# Select the top K most informative features\n",
    "k = 7174  # Adjust the number of features (K) as needed\n",
    "selector = SelectKBest(chi2, k=k)\n",
    "X_train_selected = selector.fit_transform(X_train_vectorized, y_train)\n",
    "X_test_selected = selector.transform(X_test_vectorized)\n",
    "\n",
    "# Train a model on the selected features\n",
    "model = MultinomialNB()\n",
    "model.fit(X_train_selected, y_train)\n",
    "\n",
    "# Make predictions on the test set\n",
    "y_pred = model.predict(X_test_selected)\n",
    "\n"
   ]
  },
  {
   "cell_type": "code",
   "execution_count": 11,
   "id": "f7ed1827-cb48-49af-8607-84219aba7453",
   "metadata": {},
   "outputs": [
    {
     "name": "stdout",
     "output_type": "stream",
     "text": [
      "Accuracy: 0.49\n"
     ]
    }
   ],
   "source": [
    "# Evaluate the model\n",
    "accuracy = accuracy_score(y_test, y_pred)\n",
    "print(f'Accuracy: {accuracy:.2f}')"
   ]
  },
  {
   "cell_type": "code",
   "execution_count": 12,
   "id": "1d0b59f6-7c1a-4e13-b371-d306ed074dfe",
   "metadata": {},
   "outputs": [],
   "source": [
    "new_data_df = pd.read_excel(r'D:\\pythonCode\\Sector Mapping\\DealerUnmapped.xlsx')\n",
    "\n",
    "# Preprocess the new data (assuming 'HSN' is the column with tags)\n",
    "new_data_df['HSN'] = new_data_df['HSN'].str.replace(',', ' ')\n",
    "\n",
    "# Vectorize the new data\n",
    "new_data_vectorized = vectorizer.transform(new_data_df['HSN'])\n",
    "\n",
    "# Make predictions using the trained model\n",
    "new_predictions = model.predict(new_data_vectorized)"
   ]
  },
  {
   "cell_type": "code",
   "execution_count": 13,
   "id": "65cf0043-66e7-4126-97bb-6278ccb0877b",
   "metadata": {},
   "outputs": [],
   "source": [
    "# Add the predictions to the new data DataFrame\n",
    "new_data_df['Predicted_Type'] = new_predictions\n",
    "\n",
    "# Save the output to a new Excel file\n",
    "new_data_df.to_excel(r'D:\\pythonCode\\Sector Mapping\\NaiveBayes.xlsx', index=False)"
   ]
  }
 ],
 "metadata": {
  "kernelspec": {
   "display_name": "Python 3 (ipykernel)",
   "language": "python",
   "name": "python3"
  },
  "language_info": {
   "codemirror_mode": {
    "name": "ipython",
    "version": 3
   },
   "file_extension": ".py",
   "mimetype": "text/x-python",
   "name": "python",
   "nbconvert_exporter": "python",
   "pygments_lexer": "ipython3",
   "version": "3.11.3"
  }
 },
 "nbformat": 4,
 "nbformat_minor": 5
}
