{
 "cells": [
  {
   "cell_type": "code",
   "execution_count": 2,
   "metadata": {},
   "outputs": [
    {
     "name": "stdout",
     "output_type": "stream",
     "text": [
      "Enter Start Number \n",
      "5\n",
      "How many numbers to generate in seq \n",
      "5\n",
      "5\n",
      "15\n",
      "[1, 1, 1, 5]\n",
      "[3, 1, 1, 5]\n",
      "[1, 3, 2, 1, 1, 5]\n"
     ]
    }
   ],
   "source": [
    "a = input('Enter Start Number \\n')\n",
    "m_terms = int(input('How many numbers to generate in seq \\n'))\n",
    "c = 1\n",
    "print (a)\n",
    "a =  str(c) + a\n",
    "print (a)\n",
    "for i in range (m_terms-2):\n",
    "    b = []\n",
    "    len_a = len(a)\n",
    "    for j in range (len(a)):\n",
    "        if (len_a > 1):\n",
    "            if (a[j] == a[j+1]):\n",
    "                c = c+1\n",
    "            else:\n",
    "                b.append(c)\n",
    "                b.append(int(a[j]))\n",
    "                c = 1\n",
    "        else:\n",
    "            b.append(c)\n",
    "            b.append(int(a[j]))\n",
    "            print (b)\n",
    "            c = 1\n",
    "        len_a = len_a - 1\n",
    "    a = b"
   ]
  }
 ],
 "metadata": {
  "kernelspec": {
   "display_name": "Python 3",
   "language": "python",
   "name": "python3"
  },
  "language_info": {
   "codemirror_mode": {
    "name": "ipython",
    "version": 3
   },
   "file_extension": ".py",
   "mimetype": "text/x-python",
   "name": "python",
   "nbconvert_exporter": "python",
   "pygments_lexer": "ipython3",
   "version": "3.8.3"
  }
 },
 "nbformat": 4,
 "nbformat_minor": 4
}
