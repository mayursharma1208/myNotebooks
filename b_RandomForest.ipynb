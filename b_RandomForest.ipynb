{
 "cells": [
  {
   "cell_type": "code",
   "execution_count": 2,
   "id": "2c4b5a74-1999-40ea-9187-d165253320a9",
   "metadata": {},
   "outputs": [],
   "source": [
    "import pandas as pd\n",
    "from sklearn.model_selection import train_test_split\n",
    "from sklearn.ensemble import RandomForestClassifier\n",
    "from sklearn.metrics import f1_score, precision_score, recall_score, hamming_loss\n",
    "from collections import Counter"
   ]
  },
  {
   "cell_type": "code",
   "execution_count": 16,
   "id": "58d343e6-48c7-4aa1-af68-473e5e4715d4",
   "metadata": {},
   "outputs": [
    {
     "name": "stdout",
     "output_type": "stream",
     "text": [
      "                 GSTIN            HSN          Sector  Sector Code  \\\n",
      "0      22BMWPM3936L1ZF       00440013     Advertising            1   \n",
      "1      22AKZPR2078L1ZD       00440013     Advertising            1   \n",
      "2      22AUTPB4627K1ZI       00440013     Advertising            1   \n",
      "3      22ATSPG2600F2Z5       00440013     Advertising            1   \n",
      "4      22AKFPS5510C1ZO       00440013     Advertising            1   \n",
      "...                ...            ...             ...          ...   \n",
      "44380  22ABKPK5356J2ZI         999621  Works Contract           59   \n",
      "44381  22ARNPR6016R1Z5  999633,995428  Works Contract           59   \n",
      "44382  22AAFFO7423E1ZM  999691,999699  Works Contract           59   \n",
      "44383  22AYQPG4386D1ZF         999799  Works Contract           59   \n",
      "44384  22DKIPK2459A1ZK         999799  Works Contract           59   \n",
      "\n",
      "       Anomaly_Score Outlier  \n",
      "0           0.012104  Inlier  \n",
      "1           0.012104  Inlier  \n",
      "2           0.012104  Inlier  \n",
      "3           0.012104  Inlier  \n",
      "4           0.012104  Inlier  \n",
      "...              ...     ...  \n",
      "44380       0.011508  Inlier  \n",
      "44381       0.012308  Inlier  \n",
      "44382       0.014125  Inlier  \n",
      "44383       0.014125  Inlier  \n",
      "44384       0.014125  Inlier  \n",
      "\n",
      "[44385 rows x 6 columns]\n",
      "                 GSTIN            HSN          Sector  Sector Code  \\\n",
      "0      22BMWPM3936L1ZF       00440013     Advertising            1   \n",
      "1      22AKZPR2078L1ZD       00440013     Advertising            1   \n",
      "2      22AUTPB4627K1ZI       00440013     Advertising            1   \n",
      "3      22ATSPG2600F2Z5       00440013     Advertising            1   \n",
      "4      22AKFPS5510C1ZO       00440013     Advertising            1   \n",
      "...                ...            ...             ...          ...   \n",
      "44380  22ABKPK5356J2ZI         999621  Works Contract           59   \n",
      "44381  22ARNPR6016R1Z5  999633,995428  Works Contract           59   \n",
      "44382  22AAFFO7423E1ZM  999691,999699  Works Contract           59   \n",
      "44383  22AYQPG4386D1ZF         999799  Works Contract           59   \n",
      "44384  22DKIPK2459A1ZK         999799  Works Contract           59   \n",
      "\n",
      "       Anomaly_Score Outlier  \n",
      "0           0.012104  Inlier  \n",
      "1           0.012104  Inlier  \n",
      "2           0.012104  Inlier  \n",
      "3           0.012104  Inlier  \n",
      "4           0.012104  Inlier  \n",
      "...              ...     ...  \n",
      "44380       0.011508  Inlier  \n",
      "44381       0.012308  Inlier  \n",
      "44382       0.014125  Inlier  \n",
      "44383       0.014125  Inlier  \n",
      "44384       0.014125  Inlier  \n",
      "\n",
      "[42165 rows x 6 columns]\n"
     ]
    }
   ],
   "source": [
    "# Load the dataset\n",
    "df = pd.read_excel(r'D:\\pythonCode\\Sector Mapping\\Sector_data_with_outliers.xlsx')\n",
    "print (df)\n",
    "df = df[df['Outlier'] == 'Inlier']\n",
    "print(df)\n",
    "max_tokens = 10\n",
    "# Split the 'HSN' column into a list of tokens\n",
    "df['HSN'] = df['HSN'].str.split(',', n=max_tokens - 1)"
   ]
  },
  {
   "cell_type": "code",
   "execution_count": 17,
   "id": "5871cc65-aa1d-4f7c-b172-ad8bc883c700",
   "metadata": {},
   "outputs": [
    {
     "name": "stdout",
     "output_type": "stream",
     "text": [
      "                  GSTIN       HSN          Sector  Sector Code  Anomaly_Score  \\\n",
      "0       22BMWPM3936L1ZF  00440013     Advertising            1       0.012104   \n",
      "1       22AKZPR2078L1ZD  00440013     Advertising            1       0.012104   \n",
      "2       22AUTPB4627K1ZI  00440013     Advertising            1       0.012104   \n",
      "3       22ATSPG2600F2Z5  00440013     Advertising            1       0.012104   \n",
      "4       22AKFPS5510C1ZO  00440013     Advertising            1       0.012104   \n",
      "...                 ...       ...             ...          ...            ...   \n",
      "142660  22ARNPR6016R1Z5    995428  Works Contract           59       0.012308   \n",
      "142661  22AAFFO7423E1ZM    999691  Works Contract           59       0.014125   \n",
      "142662  22AAFFO7423E1ZM    999699  Works Contract           59       0.014125   \n",
      "142663  22AYQPG4386D1ZF    999799  Works Contract           59       0.014125   \n",
      "142664  22DKIPK2459A1ZK    999799  Works Contract           59       0.014125   \n",
      "\n",
      "       Outlier  \n",
      "0       Inlier  \n",
      "1       Inlier  \n",
      "2       Inlier  \n",
      "3       Inlier  \n",
      "4       Inlier  \n",
      "...        ...  \n",
      "142660  Inlier  \n",
      "142661  Inlier  \n",
      "142662  Inlier  \n",
      "142663  Inlier  \n",
      "142664  Inlier  \n",
      "\n",
      "[142665 rows x 6 columns]\n"
     ]
    }
   ],
   "source": [
    "# Explode the list of tokens into separate rows (each row contains one HSN code)\n",
    "df = df.explode('HSN')\n",
    "\n",
    "# Reset the DataFrame index\n",
    "df.reset_index(drop=True, inplace=True)\n",
    "\n",
    "print (df)"
   ]
  },
  {
   "cell_type": "code",
   "execution_count": 18,
   "id": "fa70ba46-0b98-47ec-ae58-8384c8d84747",
   "metadata": {},
   "outputs": [],
   "source": [
    "# Split the data into features (X) and labels (y)\n",
    "X = df['HSN'].values\n",
    "y = df['Sector Code'].values\n",
    "\n",
    "# Reshape X for a single feature (HSN codes)\n",
    "X_reshaped = X.reshape(-1, 1)\n",
    "\n",
    "# Reshape y for a single sample with multiple features (sectors)\n",
    "y_reshaped = y.reshape(1, -1)\n"
   ]
  },
  {
   "cell_type": "code",
   "execution_count": 19,
   "id": "a589a77a-ec66-444b-9f9f-d2375c358f29",
   "metadata": {},
   "outputs": [
    {
     "name": "stdout",
     "output_type": "stream",
     "text": [
      "Empty DataFrame\n",
      "Columns: [GSTIN, HSN, Sector, Sector Code, Anomaly_Score, Outlier]\n",
      "Index: []\n"
     ]
    }
   ],
   "source": [
    "rows_with_missing_values = df[df.isnull().any(axis=1)]\n",
    "# Display the rows with missing values\n",
    "print(rows_with_missing_values)"
   ]
  },
  {
   "cell_type": "code",
   "execution_count": 20,
   "id": "116b2f83-7424-4605-b044-9cf428253119",
   "metadata": {},
   "outputs": [
    {
     "name": "stdout",
     "output_type": "stream",
     "text": [
      "x_train shape: (114132, 1)\n",
      "x_test shape: (28533, 1)\n",
      "y_train shape: (114132,)\n",
      "y_test shape: (28533,)\n"
     ]
    }
   ],
   "source": [
    "# Split the data into training and testing sets\n",
    "X_train, X_test, y_train, y_test = train_test_split(X_reshaped, y_reshaped.ravel(), test_size=0.2, random_state=42)\n",
    "\n",
    "print('x_train shape:', X_train.shape)\n",
    "print('x_test shape:', X_test.shape)\n",
    "print('y_train shape:', y_train.shape)\n",
    "print('y_test shape:', y_test.shape)"
   ]
  },
  {
   "cell_type": "code",
   "execution_count": 21,
   "id": "988a7e39-c9e5-466b-94a7-9d712e01c4b6",
   "metadata": {},
   "outputs": [],
   "source": [
    "# Initialize and train the model (e.g., Random Forest)\n",
    "model = RandomForestClassifier()\n",
    "model.fit(X_train, y_train)\n",
    "\n",
    "# Predict sectors for the test data\n",
    "y_pred = model.predict(X_test)"
   ]
  },
  {
   "cell_type": "code",
   "execution_count": 22,
   "id": "9751f69f-2290-4f6b-87a1-a874e9414b03",
   "metadata": {},
   "outputs": [
    {
     "name": "stdout",
     "output_type": "stream",
     "text": [
      "F1 Score: 0.40031235764740514\n",
      "Precision: 0.3978920263998177\n",
      "Recall: 0.41464269442400026\n",
      "Hamming Loss: 0.5853573055759997\n"
     ]
    },
    {
     "name": "stderr",
     "output_type": "stream",
     "text": [
      "C:\\Users\\hp\\AppData\\Local\\Programs\\Python\\Python311\\Lib\\site-packages\\sklearn\\metrics\\_classification.py:1469: UndefinedMetricWarning: Precision is ill-defined and being set to 0.0 in labels with no predicted samples. Use `zero_division` parameter to control this behavior.\n",
      "  _warn_prf(average, modifier, msg_start, len(result))\n"
     ]
    }
   ],
   "source": [
    "# Evaluate the model's performance\n",
    "f1 = f1_score(y_test, y_pred, average='weighted')\n",
    "precision = precision_score(y_test, y_pred, average='weighted')\n",
    "recall = recall_score(y_test, y_pred, average='weighted')\n",
    "hamming = hamming_loss(y_test, y_pred)\n",
    "\n",
    "print(f'F1 Score: {f1}')\n",
    "print(f'Precision: {precision}')\n",
    "print(f'Recall: {recall}')\n",
    "print(f'Hamming Loss: {hamming}')"
   ]
  },
  {
   "cell_type": "code",
   "execution_count": 23,
   "id": "aad51412-c233-4e74-9923-52ef58ad489e",
   "metadata": {},
   "outputs": [],
   "source": [
    "predicted_probabilities = model.predict_proba(X_test)"
   ]
  },
  {
   "cell_type": "code",
   "execution_count": 25,
   "id": "c2545250-8f81-4cf7-9504-d4e23b5077bc",
   "metadata": {},
   "outputs": [
    {
     "name": "stdout",
     "output_type": "stream",
     "text": [
      "                  GSTIN                                         Trade Name  \\\n",
      "0       22AAAAC5632P1ZR              CHHATTISGARH SULABH SWACHATA SANSTHAN   \n",
      "0       22AAAAC5632P1ZR              CHHATTISGARH SULABH SWACHATA SANSTHAN   \n",
      "0       22AAAAC5632P1ZR              CHHATTISGARH SULABH SWACHATA SANSTHAN   \n",
      "0       22AAAAC5632P1ZR              CHHATTISGARH SULABH SWACHATA SANSTHAN   \n",
      "0       22AAAAC5632P1ZR              CHHATTISGARH SULABH SWACHATA SANSTHAN   \n",
      "...                 ...                                                ...   \n",
      "167582  22QOVPS2951R1ZI                                 SANJAY AND COMPANY   \n",
      "167583  22QVTPS4436Q1Z8  VEDIKA RESEARCH INSTITUTE SPAWNING HUB & TRADI...   \n",
      "167583  22QVTPS4436Q1Z8  VEDIKA RESEARCH INSTITUTE SPAWNING HUB & TRADI...   \n",
      "167583  22QVTPS4436Q1Z8  VEDIKA RESEARCH INSTITUTE SPAWNING HUB & TRADI...   \n",
      "167583  22QVTPS4436Q1Z8  VEDIKA RESEARCH INSTITUTE SPAWNING HUB & TRADI...   \n",
      "\n",
      "             HSN  \n",
      "0           7308  \n",
      "0           6810  \n",
      "0           7318  \n",
      "0           2523  \n",
      "0           7324  \n",
      "...          ...  \n",
      "167582        20  \n",
      "167583  38247800  \n",
      "167583  84321010  \n",
      "167583    998114  \n",
      "167583    998143  \n",
      "\n",
      "[588021 rows x 3 columns]\n"
     ]
    }
   ],
   "source": [
    "new_data = pd.read_excel(r'D:\\pythonCode\\Sector Mapping\\DealerUnmapped.xlsx')\n",
    "max_tokens = 16\n",
    "# Split the 'HSN' column into a list of tokens\n",
    "new_data['HSN'] = new_data['HSN'].str.split(',', n=max_tokens - 1)\n",
    "# Explode the list of tokens into separate rows (each row contains one HSN code)\n",
    "new_data = new_data.explode('HSN')\n",
    "print(new_data)\n",
    "# Reset the DataFrame index\n",
    "new_data.reset_index(drop=True, inplace=True)"
   ]
  },
  {
   "cell_type": "code",
   "execution_count": 26,
   "id": "0344f3ec-397d-450e-9a12-e33a27ec5484",
   "metadata": {},
   "outputs": [],
   "source": [
    "X_new = new_data['HSN'].values.reshape(-1, 1)  # Reshape for prediction\n",
    "\n",
    "y_pred_new = model.predict(X_new)  # 'clf' is your trained model\n",
    "\n",
    "predictions_df = pd.DataFrame({'HSN': new_data['HSN'],'GSTIN': new_data['GSTIN'], 'RandomForest_Sector': y_pred_new})\n"
   ]
  },
  {
   "cell_type": "code",
   "execution_count": 28,
   "id": "5992b171-c486-4eb5-bc97-a5c387c4da0f",
   "metadata": {},
   "outputs": [],
   "source": [
    "grouped = predictions_df.groupby('GSTIN')\n",
    "\n",
    "# Initialize a list to store the consolidated results\n",
    "consolidated_results = []\n",
    "\n",
    "# Iterate through groups\n",
    "for dealer_id, group in grouped:\n",
    "    # Assuming 'Predicted_Sector' is the column containing tokenized sector predictions\n",
    "    tokenized_sectors = group['RandomForest_Sector']\n",
    "    \n",
    "    # Apply the \"Majority Vote\" strategy to select one sector\n",
    "    majority_sector = Counter(tokenized_sectors).most_common(1)[0][0]\n",
    "    \n",
    "    # Store the selected sector along with the common identifier (dealer ID)\n",
    "    consolidated_results.append({'GSTIN': dealer_id, 'Selected_Sector': majority_sector})\n",
    "\n"
   ]
  },
  {
   "cell_type": "code",
   "execution_count": 29,
   "id": "de931671-c41c-4577-b9ce-1a7be3d0cbef",
   "metadata": {},
   "outputs": [],
   "source": [
    "# Create a new DataFrame with the consolidated results\n",
    "consolidated_df = pd.DataFrame(consolidated_results)\n",
    "\n",
    "# Save the consolidated results to a new Excel file if needed\n",
    "consolidated_df.to_excel(r'D:\\pythonCode\\Sector Mapping\\consolidated_results.xlsx', index=False)\n",
    "\n",
    "#predictions_df.to_excel(r'D:\\GST BO Data\\GST BO MIS Registration Tax Payer Register\\predicted_data.xlsx', index=False)"
   ]
  }
 ],
 "metadata": {
  "kernelspec": {
   "display_name": "Python 3 (ipykernel)",
   "language": "python",
   "name": "python3"
  },
  "language_info": {
   "codemirror_mode": {
    "name": "ipython",
    "version": 3
   },
   "file_extension": ".py",
   "mimetype": "text/x-python",
   "name": "python",
   "nbconvert_exporter": "python",
   "pygments_lexer": "ipython3",
   "version": "3.11.3"
  }
 },
 "nbformat": 4,
 "nbformat_minor": 5
}
